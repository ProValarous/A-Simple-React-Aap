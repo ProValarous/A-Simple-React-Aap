{
  "nbformat": 4,
  "nbformat_minor": 0,
  "metadata": {
    "colab": {
      "provenance": [],
      "authorship_tag": "ABX9TyN7XNzvIRUjrw908AswkuPx",
      "include_colab_link": true
    },
    "kernelspec": {
      "name": "python3",
      "display_name": "Python 3"
    },
    "language_info": {
      "name": "python"
    }
  },
  "cells": [
    {
      "cell_type": "markdown",
      "metadata": {
        "id": "view-in-github",
        "colab_type": "text"
      },
      "source": [
        "<a href=\"https://colab.research.google.com/github/ProValarous/A-Simple-React-Aap/blob/master/lab1_v0.ipynb\" target=\"_parent\"><img src=\"https://colab.research.google.com/assets/colab-badge.svg\" alt=\"Open In Colab\"/></a>"
      ]
    },
    {
      "cell_type": "markdown",
      "source": [
        "## Importing Libraries and Dependencies"
      ],
      "metadata": {
        "id": "nz0PbIaR62Ms"
      }
    },
    {
      "cell_type": "code",
      "source": [
        "# HIDE OUTPUT\n",
        "!apt-get update > /dev/null 2>&1\n",
        "!apt-get install cmake > /dev/null 2>&1\n",
        "!pip install --upgrade setuptools 2>&1\n",
        "!pip install ez_setup > /dev/null 2>&1\n",
        "!pip install gym[atari] > /dev/null 2>&1"
      ],
      "metadata": {
        "colab": {
          "base_uri": "https://localhost:8080/"
        },
        "id": "CG_Edr6wiJ_Q",
        "outputId": "a11e713a-0e7d-45e4-df70-5e6c4d9fdd96"
      },
      "execution_count": null,
      "outputs": [
        {
          "output_type": "stream",
          "name": "stdout",
          "text": [
            "Requirement already satisfied: setuptools in /usr/local/lib/python3.11/dist-packages (76.0.0)\n"
          ]
        }
      ]
    },
    {
      "cell_type": "code",
      "source": [
        "# HIDE OUTPUT\n",
        "!pip install gym pyvirtualdisplay > /dev/null 2>&1\n",
        "!apt-get install -y xvfb python-opengl ffmpeg > /dev/null 2>&1\n",
        "!sudo apt-get install xvfb\n",
        "!pip install xvfbwrapper"
      ],
      "metadata": {
        "id": "GS9RGtAgiCP0",
        "colab": {
          "base_uri": "https://localhost:8080/"
        },
        "outputId": "e4936a8d-0de3-4427-f751-4a273c63fe9b"
      },
      "execution_count": null,
      "outputs": [
        {
          "output_type": "stream",
          "name": "stdout",
          "text": [
            "Reading package lists... Done\n",
            "Building dependency tree... Done\n",
            "Reading state information... Done\n",
            "The following additional packages will be installed:\n",
            "  libfontenc1 libxfont2 libxkbfile1 x11-xkb-utils xfonts-base xfonts-encodings\n",
            "  xfonts-utils xserver-common\n",
            "The following NEW packages will be installed:\n",
            "  libfontenc1 libxfont2 libxkbfile1 x11-xkb-utils xfonts-base xfonts-encodings\n",
            "  xfonts-utils xserver-common xvfb\n",
            "0 upgraded, 9 newly installed, 0 to remove and 29 not upgraded.\n",
            "Need to get 7,814 kB of archives.\n",
            "After this operation, 12.0 MB of additional disk space will be used.\n",
            "Get:1 http://archive.ubuntu.com/ubuntu jammy/main amd64 libfontenc1 amd64 1:1.1.4-1build3 [14.7 kB]\n",
            "Get:2 http://archive.ubuntu.com/ubuntu jammy/main amd64 libxfont2 amd64 1:2.0.5-1build1 [94.5 kB]\n",
            "Get:3 http://archive.ubuntu.com/ubuntu jammy/main amd64 libxkbfile1 amd64 1:1.1.0-1build3 [71.8 kB]\n",
            "Get:4 http://archive.ubuntu.com/ubuntu jammy/main amd64 x11-xkb-utils amd64 7.7+5build4 [172 kB]\n",
            "Get:5 http://archive.ubuntu.com/ubuntu jammy/main amd64 xfonts-encodings all 1:1.0.5-0ubuntu2 [578 kB]\n",
            "Get:6 http://archive.ubuntu.com/ubuntu jammy/main amd64 xfonts-utils amd64 1:7.7+6build2 [94.6 kB]\n",
            "Get:7 http://archive.ubuntu.com/ubuntu jammy/main amd64 xfonts-base all 1:1.0.5 [5,896 kB]\n",
            "Get:8 http://archive.ubuntu.com/ubuntu jammy-updates/main amd64 xserver-common all 2:21.1.4-2ubuntu1.7~22.04.13 [29.1 kB]\n",
            "Get:9 http://archive.ubuntu.com/ubuntu jammy-updates/universe amd64 xvfb amd64 2:21.1.4-2ubuntu1.7~22.04.13 [863 kB]\n",
            "Fetched 7,814 kB in 1s (7,237 kB/s)\n",
            "debconf: unable to initialize frontend: Dialog\n",
            "debconf: (No usable dialog-like program is installed, so the dialog based frontend cannot be used. at /usr/share/perl5/Debconf/FrontEnd/Dialog.pm line 78, <> line 9.)\n",
            "debconf: falling back to frontend: Readline\n",
            "debconf: unable to initialize frontend: Readline\n",
            "debconf: (This frontend requires a controlling tty.)\n",
            "debconf: falling back to frontend: Teletype\n",
            "dpkg-preconfigure: unable to re-open stdin: \n",
            "Selecting previously unselected package libfontenc1:amd64.\n",
            "(Reading database ... 124947 files and directories currently installed.)\n",
            "Preparing to unpack .../0-libfontenc1_1%3a1.1.4-1build3_amd64.deb ...\n",
            "Unpacking libfontenc1:amd64 (1:1.1.4-1build3) ...\n",
            "Selecting previously unselected package libxfont2:amd64.\n",
            "Preparing to unpack .../1-libxfont2_1%3a2.0.5-1build1_amd64.deb ...\n",
            "Unpacking libxfont2:amd64 (1:2.0.5-1build1) ...\n",
            "Selecting previously unselected package libxkbfile1:amd64.\n",
            "Preparing to unpack .../2-libxkbfile1_1%3a1.1.0-1build3_amd64.deb ...\n",
            "Unpacking libxkbfile1:amd64 (1:1.1.0-1build3) ...\n",
            "Selecting previously unselected package x11-xkb-utils.\n",
            "Preparing to unpack .../3-x11-xkb-utils_7.7+5build4_amd64.deb ...\n",
            "Unpacking x11-xkb-utils (7.7+5build4) ...\n",
            "Selecting previously unselected package xfonts-encodings.\n",
            "Preparing to unpack .../4-xfonts-encodings_1%3a1.0.5-0ubuntu2_all.deb ...\n",
            "Unpacking xfonts-encodings (1:1.0.5-0ubuntu2) ...\n",
            "Selecting previously unselected package xfonts-utils.\n",
            "Preparing to unpack .../5-xfonts-utils_1%3a7.7+6build2_amd64.deb ...\n",
            "Unpacking xfonts-utils (1:7.7+6build2) ...\n",
            "Selecting previously unselected package xfonts-base.\n",
            "Preparing to unpack .../6-xfonts-base_1%3a1.0.5_all.deb ...\n",
            "Unpacking xfonts-base (1:1.0.5) ...\n",
            "Selecting previously unselected package xserver-common.\n",
            "Preparing to unpack .../7-xserver-common_2%3a21.1.4-2ubuntu1.7~22.04.13_all.deb ...\n",
            "Unpacking xserver-common (2:21.1.4-2ubuntu1.7~22.04.13) ...\n",
            "Selecting previously unselected package xvfb.\n",
            "Preparing to unpack .../8-xvfb_2%3a21.1.4-2ubuntu1.7~22.04.13_amd64.deb ...\n",
            "Unpacking xvfb (2:21.1.4-2ubuntu1.7~22.04.13) ...\n",
            "Setting up libfontenc1:amd64 (1:1.1.4-1build3) ...\n",
            "Setting up xfonts-encodings (1:1.0.5-0ubuntu2) ...\n",
            "Setting up libxkbfile1:amd64 (1:1.1.0-1build3) ...\n",
            "Setting up libxfont2:amd64 (1:2.0.5-1build1) ...\n",
            "Setting up x11-xkb-utils (7.7+5build4) ...\n",
            "Setting up xfonts-utils (1:7.7+6build2) ...\n",
            "Setting up xfonts-base (1:1.0.5) ...\n",
            "Setting up xserver-common (2:21.1.4-2ubuntu1.7~22.04.13) ...\n",
            "Setting up xvfb (2:21.1.4-2ubuntu1.7~22.04.13) ...\n",
            "Processing triggers for man-db (2.10.2-1) ...\n",
            "Processing triggers for fontconfig (2.13.1-4.2ubuntu5) ...\n",
            "Processing triggers for libc-bin (2.35-0ubuntu3.8) ...\n",
            "/sbin/ldconfig.real: /usr/local/lib/libtbbmalloc_proxy.so.2 is not a symbolic link\n",
            "\n",
            "/sbin/ldconfig.real: /usr/local/lib/libtbbbind_2_5.so.3 is not a symbolic link\n",
            "\n",
            "/sbin/ldconfig.real: /usr/local/lib/libur_loader.so.0 is not a symbolic link\n",
            "\n",
            "/sbin/ldconfig.real: /usr/local/lib/libtbbbind_2_0.so.3 is not a symbolic link\n",
            "\n",
            "/sbin/ldconfig.real: /usr/local/lib/libhwloc.so.15 is not a symbolic link\n",
            "\n",
            "/sbin/ldconfig.real: /usr/local/lib/libumf.so.0 is not a symbolic link\n",
            "\n",
            "/sbin/ldconfig.real: /usr/local/lib/libtbb.so.12 is not a symbolic link\n",
            "\n",
            "/sbin/ldconfig.real: /usr/local/lib/libur_adapter_level_zero.so.0 is not a symbolic link\n",
            "\n",
            "/sbin/ldconfig.real: /usr/local/lib/libtcm.so.1 is not a symbolic link\n",
            "\n",
            "/sbin/ldconfig.real: /usr/local/lib/libur_adapter_opencl.so.0 is not a symbolic link\n",
            "\n",
            "/sbin/ldconfig.real: /usr/local/lib/libtbbmalloc.so.2 is not a symbolic link\n",
            "\n",
            "/sbin/ldconfig.real: /usr/local/lib/libtcm_debug.so.1 is not a symbolic link\n",
            "\n",
            "/sbin/ldconfig.real: /usr/local/lib/libtbbbind.so.3 is not a symbolic link\n",
            "\n",
            "Collecting xvfbwrapper\n",
            "  Downloading xvfbwrapper-0.2.9.tar.gz (5.6 kB)\n",
            "  Preparing metadata (setup.py) ... \u001b[?25l\u001b[?25hdone\n",
            "Building wheels for collected packages: xvfbwrapper\n",
            "  Building wheel for xvfbwrapper (setup.py) ... \u001b[?25l\u001b[?25hdone\n",
            "  Created wheel for xvfbwrapper: filename=xvfbwrapper-0.2.9-py3-none-any.whl size=5063 sha256=edf761c575bf46d67979e357b2bf20abe41f6da89bbb6f4e15c0b38027eabbc2\n",
            "  Stored in directory: /root/.cache/pip/wheels/ba/5c/40/945b2f824d1770d8b13123f3f598562449be8fc8aa51acfff2\n",
            "Successfully built xvfbwrapper\n",
            "Installing collected packages: xvfbwrapper\n",
            "Successfully installed xvfbwrapper-0.2.9\n"
          ]
        }
      ]
    },
    {
      "cell_type": "code",
      "source": [
        "!pip install gymnasium"
      ],
      "metadata": {
        "colab": {
          "base_uri": "https://localhost:8080/"
        },
        "id": "1EoWwb63pIyw",
        "outputId": "080f56da-bc95-454d-dceb-eda954a74348"
      },
      "execution_count": null,
      "outputs": [
        {
          "output_type": "stream",
          "name": "stdout",
          "text": [
            "Requirement already satisfied: gymnasium in /usr/local/lib/python3.11/dist-packages (1.1.1)\n",
            "Requirement already satisfied: numpy>=1.21.0 in /usr/local/lib/python3.11/dist-packages (from gymnasium) (1.26.4)\n",
            "Requirement already satisfied: cloudpickle>=1.2.0 in /usr/local/lib/python3.11/dist-packages (from gymnasium) (3.1.1)\n",
            "Requirement already satisfied: typing-extensions>=4.3.0 in /usr/local/lib/python3.11/dist-packages (from gymnasium) (4.12.2)\n",
            "Requirement already satisfied: farama-notifications>=0.0.1 in /usr/local/lib/python3.11/dist-packages (from gymnasium) (0.0.4)\n"
          ]
        }
      ]
    },
    {
      "cell_type": "code",
      "source": [
        "import gym\n",
        "# from gym.wrappers import Monitor\n",
        "from gym.wrappers.record_video import RecordVideo\n",
        "import glob\n",
        "import io\n",
        "import base64\n",
        "from IPython.display import HTML\n",
        "from pyvirtualdisplay import Display\n",
        "from IPython import display as ipythondisplay"
      ],
      "metadata": {
        "id": "4EkrClJB6zif"
      },
      "execution_count": null,
      "outputs": []
    },
    {
      "cell_type": "code",
      "source": [
        "## Some Display Utility functions\n",
        "\n",
        "\n",
        "\n",
        "display = Display(visible=0, size=(1400, 900))\n",
        "display.start()\n",
        "\n",
        "\"\"\"\n",
        "Utility functions to enable video recording of gym environment\n",
        "and displaying it.\n",
        "To enable video, just do \"env = wrap_env(env)\"\"\n",
        "\"\"\"\n",
        "\n",
        "\n",
        "def show_video():\n",
        "    mp4list = glob.glob('video/*.mp4')\n",
        "    if len(mp4list) > 0:\n",
        "        mp4 = mp4list[0]\n",
        "        video = io.open(mp4, 'r+b').read()\n",
        "        encoded = base64.b64encode(video)\n",
        "        ipythondisplay.display(HTML(data='''<video alt=\"test\" autoplay\n",
        "                loop controls style=\"height: 400px;\">\n",
        "                <source src=\"data:video/mp4;base64,{0}\" type=\"video/mp4\" />\n",
        "             </video>'''.format(encoded.decode('ascii'))))\n",
        "    else:\n",
        "        print(\"Could not find video\")\n",
        "\n",
        "\n",
        "def wrap_env(env):\n",
        "    env = RecordVideo(env, './video')\n",
        "    return env\n"
      ],
      "metadata": {
        "id": "y6GBvB5diQjj"
      },
      "execution_count": null,
      "outputs": []
    },
    {
      "cell_type": "markdown",
      "source": [
        "## OpenAI Gymnasium\n",
        "\n",
        "OpenAI Gymnasium (formerly known as OpenAI Gym) is a toolkit for developing and comparing **Reinforcement Learning (RL)** algorithms. It provides a wide range of **environments** that can simulate different kinds of tasks, making it easier to test, benchmark, and train RL agents.\n",
        "\n",
        "### Key Features:\n",
        "1. **Environment Collection:**\n",
        "    - Gymnasium provides a variety of environments ranging from simple tasks like balancing a pole to more complex ones like playing video games or controlling robots. Each environment follows a standard interface to interact with the agent, which includes:\n",
        "      - `reset()`: Resets the environment to the initial state.\n",
        "      - `step(action)`: Takes an action and returns the next state, reward, done (whether the episode has finished), and additional information.\n",
        "    \n",
        "2. **Standardized Interface:**\n",
        "    - The environments in Gymnasium share a standard API, allowing researchers and developers to write agents that can work across different tasks without changing much of their code.\n",
        "\n",
        "3. **Compatibility with Popular Libraries:**\n",
        "    - It can be easily integrated with other machine learning and deep learning frameworks such as TensorFlow, PyTorch, and RL-specific libraries like **Ray RLlib** and **Stable Baselines**.\n",
        "\n",
        "4. **Benchmarking:**\n",
        "    - Gymnasium allows easy comparison of algorithms by providing a consistent testing environment. Researchers can evaluate the performance of their RL algorithms on a standardized set of tasks.\n",
        "\n",
        "5. **Variety of Use Cases:**\n",
        "    - From **classical control** problems like CartPole and MountainCar to more complex tasks like **Atari games** or even **robot simulations**, Gymnasium supports diverse domains, enabling experimentation in many different areas.\n"
      ],
      "metadata": {
        "id": "ROh9jNAt4V7_"
      }
    },
    {
      "cell_type": "markdown",
      "source": [
        "## Key Components of Reinforcement Learning (RL) Paradigm\n",
        "\n",
        "In **Reinforcement Learning (RL)**, the goal is for an agent to learn how to perform tasks by interacting with an environment. The agent makes decisions by taking actions, and the environment responds by transitioning to a new state and giving a reward. Over time, the agent learns to maximize the cumulative reward by improving its decision-making process.\n",
        "\n",
        "Let's break down the key components using the **CartPole** environment as an example.\n",
        "\n",
        "---\n",
        "\n",
        "### 1. **Environment**\n",
        "- The environment is the \"world\" or \"simulation\" in which the agent operates. It provides the setting where the agent can take actions and receive feedback in the form of states and rewards.\n",
        "- In the **CartPole** environment, the task is to balance a pole on a moving cart. The environment defines:\n",
        "    - The physics of the system (e.g., gravity and motion).\n",
        "    - The action space (how the cart can move).\n",
        "    - The observation space (the agent’s perception of the system).\n",
        "    \n",
        "    In CartPole, the environment will change based on the actions taken by the agent to keep the pole balanced.\n",
        "\n",
        "---\n",
        "\n",
        "### 2. **Observations**\n",
        "- **Observation** refers to the data or information that the agent receives from the environment at each time step. It allows the agent to understand the current situation of the environment.\n",
        "- In the CartPole environment, the observations include:\n",
        "    - The position of the cart.\n",
        "    - The velocity of the cart.\n",
        "    - The angle of the pole.\n",
        "    - The angular velocity of the pole.\n",
        "    \n",
        "    These four values describe the state of the system at a given time. The agent uses this information to decide which action to take.\n",
        "\n",
        "---\n",
        "\n",
        "### 3. **States**\n",
        "- The **state** of the environment represents the complete description of the environment at a given time. In many cases, the observation is a partial view of the state, while the full state includes all internal variables.\n",
        "- In CartPole, the **state** is represented by:\n",
        "    - `cart position`: Where the cart is on the track.\n",
        "    - `cart velocity`: How fast the cart is moving.\n",
        "    - `pole angle`: The current tilt of the pole.\n",
        "    - `pole angular velocity`: How fast the pole is rotating.\n",
        "\n",
        "    Together, these values form the complete **state** of the CartPole system at a time step, and the agent uses them to determine how to act.\n",
        "\n",
        "---\n",
        "\n",
        "### 4. **Actions**\n",
        "- The **action** is what the agent decides to do in response to the current state. The action changes the environment and moves it to a new state.\n",
        "- In the CartPole environment, the agent has two possible actions:\n",
        "    - Move the cart to the **left**.\n",
        "    - Move the cart to the **right**.\n",
        "    \n",
        "    Based on the observations (e.g., if the pole is tilting to the right), the agent might take the action to move the cart to the left to counterbalance it.\n",
        "\n",
        "---\n",
        "\n",
        "### 5. **Rewards**\n",
        "- The **reward** is the feedback from the environment that indicates how well the agent is performing its task. The agent’s goal is to maximize the total reward it receives over time.\n",
        "- In CartPole, the agent receives a reward of **+1** for every time step that the pole remains upright. If the pole falls (or the cart moves too far off the track), the episode ends, and no more rewards are given.\n",
        "    \n",
        "    The longer the pole is balanced, the higher the total reward the agent earns. The agent’s goal is to take actions that keep the pole balanced for as long as possible.\n",
        "\n",
        "---\n",
        "\n",
        "### 6. **The RL Paradigm**\n",
        "In RL, the agent and environment interact in a loop:\n",
        "\n",
        "<img src=\"https://miro.medium.com/v2/resize:fit:908/1*the1cXDp1idTpZEvv1piAQ.png\" alt=\"RL loop img\">\n",
        "\n",
        "1. **Agent observes** the environment’s current state.\n",
        "2. **Agent selects** an action based on its observation.\n",
        "3. **Environment responds** by transitioning to a new state and providing a reward.\n",
        "4. **Agent learns** by updating its decision-making strategy based on the reward and the new state.\n",
        "\n",
        "The agent repeats this process, gradually improving its actions to maximize the reward over time. In the case of CartPole, the agent’s task is to learn how to keep the pole balanced by repeatedly observing the system, taking corrective actions (moving left or right), and receiving rewards based on how long it can keep the pole upright.\n",
        "\n",
        "\n"
      ],
      "metadata": {
        "id": "MxOa76Si9Lym"
      }
    },
    {
      "cell_type": "markdown",
      "source": [
        "## Basic Example: Cartpole Environment"
      ],
      "metadata": {
        "id": "9gLnm3RZ5SAX"
      }
    },
    {
      "cell_type": "code",
      "source": [
        "import gymnasium as gym\n"
      ],
      "metadata": {
        "id": "XIVRY7JK7B3M"
      },
      "execution_count": null,
      "outputs": []
    },
    {
      "cell_type": "code",
      "source": [
        "# Create an environment (e.g., CartPole)\n",
        "env = wrap_env(gym.make('CartPole-v1',render_mode=\"rgb_array\"))\n",
        "\n",
        "# Reset the environment\n",
        "state = env.reset()\n",
        "\n",
        "# Start the recorder (utility for displaying output)\n",
        "env.start_video_recorder()\n",
        "\n",
        "# Example of an interaction loop\n",
        "for _ in range(1000):\n",
        "    # Render the environment\n",
        "    # env.render()\n",
        "\n",
        "    # Sample random action from action space\n",
        "    action = env.action_space.sample()\n",
        "\n",
        "    # Step through the environment using the action\n",
        "    next_state, reward, done,_, info = env.step(action)\n",
        "\n",
        "    # Break the loop if the episode is done\n",
        "    if done:\n",
        "        break\n",
        "\n",
        "\n",
        "# close the video recorder(utility for displaying output)\n",
        "env.close_video_recorder()\n",
        "\n",
        "# Close the environment\n",
        "env.close()"
      ],
      "metadata": {
        "colab": {
          "base_uri": "https://localhost:8080/"
        },
        "id": "NuwMg9JR5Z-D",
        "outputId": "3c70f03e-2ed4-44b5-f4e3-e642f900bed8"
      },
      "execution_count": null,
      "outputs": [
        {
          "output_type": "stream",
          "name": "stderr",
          "text": [
            "/usr/local/lib/python3.11/dist-packages/gym/wrappers/record_video.py:75: UserWarning: \u001b[33mWARN: Overwriting existing videos at /content/video folder (try specifying a different `video_folder` for the `RecordVideo` wrapper if this is not desired)\u001b[0m\n",
            "  logger.warn(\n"
          ]
        },
        {
          "output_type": "stream",
          "name": "stdout",
          "text": [
            "Moviepy - Building video /content/video/rl-video-episode-0.mp4.\n",
            "Moviepy - Writing video /content/video/rl-video-episode-0.mp4\n",
            "\n",
            "Moviepy - Building video /content/video/rl-video-episode-0.mp4.\n",
            "Moviepy - Writing video /content/video/rl-video-episode-0.mp4\n",
            "\n"
          ]
        },
        {
          "output_type": "stream",
          "name": "stderr",
          "text": [
            "t:   0%|          | 0/2 [00:00<?, ?it/s, now=None]\n",
            "t:   0%|          | 0/1 [00:00<?, ?it/s, now=None]\u001b[A\n"
          ]
        },
        {
          "output_type": "stream",
          "name": "stdout",
          "text": [
            "Moviepy - Done !\n",
            "Moviepy - video ready /content/video/rl-video-episode-0.mp4\n",
            "Moviepy - Done !\n",
            "Moviepy - video ready /content/video/rl-video-episode-0.mp4\n",
            "Moviepy - Building video /content/video/rl-video-episode-0.mp4.\n",
            "Moviepy - Writing video /content/video/rl-video-episode-0.mp4\n",
            "\n"
          ]
        },
        {
          "output_type": "stream",
          "name": "stderr",
          "text": []
        },
        {
          "output_type": "stream",
          "name": "stdout",
          "text": [
            "Moviepy - Done !\n",
            "Moviepy - video ready /content/video/rl-video-episode-0.mp4\n"
          ]
        }
      ]
    },
    {
      "cell_type": "code",
      "source": [
        "# Display Output\n",
        "show_video()"
      ],
      "metadata": {
        "colab": {
          "base_uri": "https://localhost:8080/",
          "height": 421
        },
        "id": "s5gdzm0X6MZx",
        "outputId": "3034a675-9c38-4bbd-a01c-d12733f48d18"
      },
      "execution_count": null,
      "outputs": [
        {
          "output_type": "display_data",
          "data": {
            "text/plain": [
              "<IPython.core.display.HTML object>"
            ],
            "text/html": [
              "<video alt=\"test\" autoplay\n",
              "                loop controls style=\"height: 400px;\">\n",
              "                <source src=\"data:video/mp4;base64,AAAAIGZ0eXBpc29tAAACAGlzb21pc28yYXZjMW1wNDEAAAAIZnJlZQAACa5tZGF0AAACrgYF//+q3EXpvebZSLeWLNgg2SPu73gyNjQgLSBjb3JlIDE2NCByMzE5MSA0NjEzYWMzIC0gSC4yNjQvTVBFRy00IEFWQyBjb2RlYyAtIENvcHlsZWZ0IDIwMDMtMjAyNCAtIGh0dHA6Ly93d3cudmlkZW9sYW4ub3JnL3gyNjQuaHRtbCAtIG9wdGlvbnM6IGNhYmFjPTEgcmVmPTMgZGVibG9jaz0xOjA6MCBhbmFseXNlPTB4MzoweDExMyBtZT1oZXggc3VibWU9NyBwc3k9MSBwc3lfcmQ9MS4wMDowLjAwIG1peGVkX3JlZj0xIG1lX3JhbmdlPTE2IGNocm9tYV9tZT0xIHRyZWxsaXM9MSA4eDhkY3Q9MSBjcW09MCBkZWFkem9uZT0yMSwxMSBmYXN0X3Bza2lwPTEgY2hyb21hX3FwX29mZnNldD0tMiB0aHJlYWRzPTMgbG9va2FoZWFkX3RocmVhZHM9MSBzbGljZWRfdGhyZWFkcz0wIG5yPTAgZGVjaW1hdGU9MSBpbnRlcmxhY2VkPTAgYmx1cmF5X2NvbXBhdD0wIGNvbnN0cmFpbmVkX2ludHJhPTAgYmZyYW1lcz0zIGJfcHlyYW1pZD0yIGJfYWRhcHQ9MSBiX2JpYXM9MCBkaXJlY3Q9MSB3ZWlnaHRiPTEgb3Blbl9nb3A9MCB3ZWlnaHRwPTIga2V5aW50PTI1MCBrZXlpbnRfbWluPTI1IHNjZW5lY3V0PTQwIGludHJhX3JlZnJlc2g9MCByY19sb29rYWhlYWQ9NDAgcmM9Y3JmIG1idHJlZT0xIGNyZj0yMy4wIHFjb21wPTAuNjAgcXBtaW49MCBxcG1heD02OSBxcHN0ZXA9NCBpcF9yYXRpbz0xLjQwIGFxPTE6MS4wMACAAAAB9WWIhAAv//72rvzLK0cLlS4dWXuzUfLoSXL9iDB9aAAAAwAAAwAAJuKiZ0WFMeJsgAAALmAIWElDyDzETFWKgS2k3gc8QANsC6BJ4sVb6B4yaXHSiK0R0r/n+NPh1HIFbD2HKqAqvwRgT4olISTOI3lB2CwhQ0+cr1TOsRzWBwjb/EaRssQlalfhQggM4iNVp+CW76+9/MPhl6O9+0Kx1HVLEDEPOFGv32pfoQlKPUS0dwuiIdtacq5MpsxGtnTticNbJMIgkn9IvgDxCo/S7y7anBpU1vvM8qf34jRnQGUw+gB/KlT/un+hSIsRd9DVzhQjhHxR8AtpyslvDEE4MJVbYdA/7rvWXDmXutEi8onjwkDj0deVZxadv1kE4BO5lMtT5W/dgLSJYbpInppH9lj4nzT2ssiqcskJRrc07+QhfPJkOQttuP/0puC/WvAye5m2Q1r7hX8cr0OI35M+eO87Ip+8ob9WtCPQVawn39uzCRUmyruyU3pfu5rWJGHTHGZi+OwaVcn5UqWyAWoGrzcJLhyXTdh+UxPmJ/4O1mRMrVi/iFd4koq63NzjkOVFxntKfriTuzlxivDw9FoUAaHgI/1hBuRba45rJ9fz7RWxr10LB/R9JWR9nYeruUW2cYIzPbUWSq+FoBFBt4AAAAMAAAMDZwAAAJRBmiRsQv/+jLAAABtP5Y0BQKCpNs9l5omHVRkhkbpvgP2l+DQG+tME0owwTAeGp1RrPz419evspgsnDzVWxe+BN6G7K1jO074pvjPdh/YKn9A5DQUdMnhaN0NNYvHucR52YkVq88pxeSiy4ANiIw3y0UypSM113XL78BsdXFnjuNdvPDdTXlMCSjijcoAtQbRlkAmAAAAAQEGeQniEfwAACKwKS180vH9PCAHuuEAFcC1x0EAEJIELMlidcg9szlcchdKd82zDNTsaK5rYvXdzKAQ7qha0D98AAAAvAZ5hdEf/AAAN1d0vbJRG3UCv1N2skxenK8Kz9/FgAEOo2EWDRlkjJJ2mJqnAWYEAAAAeAZ5jakf/AAAFQzCWfDoj+9oOAzScbDwBGhfE/1mxAAAAc0GaaEmoQWiZTAhf//6MsAAASAHyPOZ+Zmoz5sM/jyfqnj1QtLdsANM5qZ84t2fOyJLkQtV72pFPdmSL5vUUC2WAXCACttn6FVZiioRZ4IAYCPK4P8X3NGLL4gZjM+VlQ7FMxthxec433Mxi53AFDre00t0AAAAyQZ6GRREsI/8AABdDRy4r8YHHFTBzbCquxXxlQ7vELdgAmmx8y+QVA5NwNd/aPB4pFsEAAAA1AZ6ldEf/AAAkq/he0lhObdAKvHupOR/p9zFKy15pWwwRxYgtxnO/gXc+DsC7riC5+WFm6oMAAAAvAZ6nakf/AAAkscwNtskpV/jna0NLFpJdJxbUXZyhUmUIpfNEAISwlpn/y5sUqEwAAAC/QZqsSahBbJlMCFf//jhAAAEU85yn5YARj5KHxcmIRYfQv9osrN4MDLKTuqQRgQ0alImb2UpyHSvlobLc/951NFNOgg459nX24RG1mTlKB69g8nm0LLx+SclKPZBm/rdSj0BP0/OmojAU/06A3J9Z/f5+KB4TO+dY252vO//zgqO2XAZt53LkqK2ob9qwreMeW6RTrzLWVukj4JgKsZauUcG9+BnUelNJHlm4seJwCz/TEUJgOwMSiyvyskImqKAAAABLQZ7KRRUsI/8AABdCCNheqUPbVTMlQm+jKMu7jeZFs9nf6UZr23LUyN5pr9KRBxUIoihGEYmWcDwhYbTGUYYnd5YYe6TftBKWX87NAAAAOwGe6XRH/wAAJKnpxxM0Gizz4TRJMK4R80daOPYag8h4uYWUjWYzCiLgk1zE9XLsxqZRnyg92pNdG/7YAAAARQGe62pH/wAAJK1tDAOdypFGA5NtfgyTlxJafNWIsLkPXV87RwrZpKzyKZJx0kJR/E6a/cAIu2fhfHZpOkcOdk5/+nrbgAAAAHVBmu5JqEFsmUwUTCP//eEAAAQ2Se4SgqcmqVISebRTvZp++9J70drkOfQ/vjwFzLS556aua85gMVcHaZ/7+fhCOXT7+fZ3FUyAZ0MptVjcD0Pd1LCqZ/RdZzX+7K3uJv03QgHcdqoZzj7bX9reg6hoGuhu3RkAAAA8AZ8Nakf/AAAkrzFgk1kNz787SsAlL+L/enZb6M5w92uWsFAWQXRkS6P9sGhItIQBdL7inY4Awp44IS7dAAAAWkGbD0nhClJlMCP//IQAABBa9lum4Fvw6YTcLf2G42LFuYdUCaf4d5NbmeDbo2o6eHCnCAvFG+x00jsmGUR6Ziu9Prnrqu/E/3F9ZXqoVAB+0P5O8pBOE0K8JQAAA+ptb292AAAAbG12aGQAAAAAAAAAAAAAAAAAAAPoAAABQAABAAABAAAAAAAAAAAAAAAAAQAAAAAAAAAAAAAAAAAAAAEAAAAAAAAAAAAAAAAAAEAAAAAAAAAAAAAAAAAAAAAAAAAAAAAAAAAAAAAAAAACAAADFXRyYWsAAABcdGtoZAAAAAMAAAAAAAAAAAAAAAEAAAAAAAABQAAAAAAAAAAAAAAAAAAAAAAAAQAAAAAAAAAAAAAAAAAAAAEAAAAAAAAAAAAAAAAAAEAAAAACWAAAAZAAAAAAACRlZHRzAAAAHGVsc3QAAAAAAAAAAQAAAUAAAAIAAAEAAAAAAo1tZGlhAAAAIG1kaGQAAAAAAAAAAAAAAAAAADIAAAAQAFXEAAAAAAAtaGRscgAAAAAAAAAAdmlkZQAAAAAAAAAAAAAAAFZpZGVvSGFuZGxlcgAAAAI4bWluZgAAABR2bWhkAAAAAQAAAAAAAAAAAAAAJGRpbmYAAAAcZHJlZgAAAAAAAAABAAAADHVybCAAAAABAAAB+HN0YmwAAACwc3RzZAAAAAAAAAABAAAAoGF2YzEAAAAAAAAAAQAAAAAAAAAAAAAAAAAAAAACWAGQAEgAAABIAAAAAAAAAAEUTGF2YzYxLjMuMTAwIGxpYngyNjQAAAAAAAAAAAAAAAAY//8AAAA2YXZjQwFkAB//4QAZZ2QAH6zZQJgz5eEAAAMAAQAAAwBkDxgxlgEABmjr48siwP34+AAAAAAUYnRydAAAAAAAAPE2AADxNgAAABhzdHRzAAAAAAAAAAEAAAAQAAABAAAAABRzdHNzAAAAAAAAAAEAAAABAAAAkGN0dHMAAAAAAAAAEAAAAAEAAAIAAAAAAQAABQAAAAABAAACAAAAAAEAAAAAAAAAAQAAAQAAAAABAAAFAAAAAAEAAAIAAAAAAQAAAAAAAAABAAABAAAAAAEAAAUAAAAAAQAAAgAAAAABAAAAAAAAAAEAAAEAAAAAAQAAAwAAAAABAAABAAAAAAEAAAIAAAAAHHN0c2MAAAAAAAAAAQAAAAEAAAAQAAAAAQAAAFRzdHN6AAAAAAAAAAAAAAAQAAAEqwAAAJgAAABEAAAAMwAAACIAAAB3AAAANgAAADkAAAAzAAAAwwAAAE8AAAA/AAAASQAAAHkAAABAAAAAXgAAABRzdGNvAAAAAAAAAAEAAAAwAAAAYXVkdGEAAABZbWV0YQAAAAAAAAAhaGRscgAAAAAAAAAAbWRpcmFwcGwAAAAAAAAAAAAAAAAsaWxzdAAAACSpdG9vAAAAHGRhdGEAAAABAAAAAExhdmY2MS4xLjEwMA==\" type=\"video/mp4\" />\n",
              "             </video>"
            ]
          },
          "metadata": {}
        }
      ]
    },
    {
      "cell_type": "markdown",
      "source": [
        "### Here’s the line-by-line explanation:\n",
        "\n",
        "\n",
        "```python\n",
        "import gymnasium as gym\n",
        "```\n",
        "- **Explanation**: This line imports the Gymnasium library, which provides environments for reinforcement learning tasks. We import it using the alias `gym`, which is standard practice for ease of use.\n",
        "\n",
        "---\n",
        "\n",
        "```python\n",
        "env = gym.make('CartPole-v1')\n",
        "```\n",
        "- **Explanation**: The `gym.make()` function creates a specific environment, in this case, `'CartPole-v1'`. This environment involves balancing a pole on a cart, a classical control problem in reinforcement learning. It initializes the environment object, which we store in the `env` variable.\n",
        "\n",
        "---\n",
        "\n",
        "```python\n",
        "state = env.reset()\n",
        "```\n",
        "- **Explanation**: The `reset()` method resets the environment to its initial state and returns the first observation or state. This is typically used to start or restart an episode.\n",
        "\n",
        "---\n",
        "\n",
        "```python\n",
        "for _ in range(1000):\n",
        "```\n",
        "- **Explanation**: This line starts a loop that runs for 1000 iterations. The underscore `_` is used when the loop variable isn’t important or needed. In reinforcement learning, this loop represents time steps during which the agent interacts with the environment.\n",
        "\n",
        "---\n",
        "\n",
        "```python\n",
        "env.render()\n",
        "```\n",
        "- **Explanation**: The `render()` method visually displays the environment. In some environments, this might open a graphical window showing the agent interacting with its surroundings.\n",
        "\n",
        "---\n",
        "\n",
        "```python\n",
        "action = env.action_space.sample()\n",
        "```\n",
        "- **Explanation**: The `action_space.sample()` method randomly selects an action from the action space of the environment. In this example, it picks a random action that the agent will take. The `action_space` defines all possible actions the agent can take.\n",
        "\n",
        "---\n",
        "\n",
        "```python\n",
        "next_state, reward, done, info = env.step(action)\n",
        "```\n",
        "- **Explanation**: The `step()` method is where the agent interacts with the environment by taking an action. It returns:\n",
        "    - `next_state`: The new state the environment is in after taking the action.\n",
        "    - `reward`: The reward the agent receives for taking the action.\n",
        "    - `done`: A boolean indicating if the episode has finished (whether the task is complete or failed).\n",
        "    - `info`: Additional information from the environment, often used for debugging purposes.\n",
        "\n",
        "---\n",
        "\n",
        "```python\n",
        "if done:\n",
        "    break\n",
        "```\n",
        "- **Explanation**: This condition checks if the episode is finished (`done` is `True`). If the task is complete, the loop breaks, stopping further interaction. This prevents unnecessary steps after the goal is reached or failure occurs.\n",
        "\n",
        "---\n",
        "\n",
        "```python\n",
        "env.close()\n",
        "```\n",
        "- **Explanation**: The `close()` method closes the environment properly, releasing any resources like windows or processors that were used for rendering the environment. It’s good practice to close environments after they are no longer needed.\n",
        "\n",
        "\n"
      ],
      "metadata": {
        "id": "ixG4g7cK4-9s"
      }
    },
    {
      "cell_type": "markdown",
      "source": [
        "## Cartpole implemention in Gymnasium"
      ],
      "metadata": {
        "id": "qnmKv0j6I2HR"
      }
    },
    {
      "cell_type": "markdown",
      "source": [
        "### **Action Space**\n",
        "The action is a ndarray with shape `(1,)` which can take values `{0, 1}` indicating the direction of the fixed force the cart is pushed with.\n",
        "\n",
        "* 0: Push cart to the left\n",
        "\n",
        "* 1: Push cart to the right\n",
        "\n",
        "Note: The velocity that is reduced or increased by the applied force is not fixed and it depends on the angle the pole is pointing. The center of gravity of the pole varies the amount of energy needed to move the cart underneath it."
      ],
      "metadata": {
        "id": "sxlpJeVGJ0ma"
      }
    },
    {
      "cell_type": "markdown",
      "source": [
        "### **Observation Space**\n",
        "\n",
        "The observation is a ndarray with the values corresponding to the following positions and velocities:\n",
        "\n",
        "**(inset table)**\n",
        "\n",
        "Note: While the ranges above denote the possible values for observation space of each element, it is not reflective of the allowed values of the state space in an unterminated episode. Particularly:\n",
        "\n",
        "The cart x-position `(index 0)` can be take values between `(-4.8, 4.8)`, but the episode terminates if the cart leaves the `(-2.4, 2.4)` range.\n",
        "\n",
        "\n",
        "The pole angle can be observed between `(-.418, .418)` radians (or ±24°), but the episode terminates if the pole angle is not in the range `(-.2095, .2095)` (or ±12°)\n",
        "\n",
        "The **observation space** in the CartPole environment is represented as a NumPy `ndarray` with a shape of `(4,)`. This means that it is a one-dimensional array containing 4 elements, each representing a specific observation related to the state of the system.\n",
        "\n",
        "The structure of the array will look like this:\n",
        "\n",
        "```python\n",
        "observation = np.array([cart_position, cart_velocity, pole_angle, pole_angular_velocity])\n",
        "```\n",
        "\n",
        "### Each element in the `ndarray`:\n",
        "1. **Cart Position**:\n",
        "   - Describes the position of the cart along the track.\n",
        "   - Ranges from `-4.8` to `4.8`.\n",
        "\n",
        "2. **Cart Velocity**:\n",
        "   - Represents the speed of the cart.\n",
        "   - No fixed bounds (`-inf` to `inf`), but its value will vary based on how fast the cart is moving.\n",
        "\n",
        "3. **Pole Angle**:\n",
        "   - Describes the tilt of the pole relative to being perfectly vertical.\n",
        "   - Ranges approximately between `-0.418` radians (around `-24°`) and `0.418` radians (around `24°`).\n",
        "\n",
        "4. **Pole Angular Velocity**:\n",
        "   - The rate at which the pole is tilting or rotating.\n",
        "   - No fixed bounds (`-inf` to `inf`), but it changes depending on how quickly the pole is falling or being corrected.\n",
        "\n",
        "#### Example `ndarray` structure:\n",
        "Suppose the environment gives the following values for each observation:\n",
        "- Cart position: `1.2`\n",
        "- Cart velocity: `0.5`\n",
        "- Pole angle: `0.1` radians\n",
        "- Pole angular velocity: `-0.02`\n",
        "\n",
        "The `ndarray` representing this observation would look like:\n",
        "```python\n",
        "observation = np.array([1.2, 0.5, 0.1, -0.02])\n",
        "```\n",
        "\n",
        "This array fully describes the current state of the CartPole environment at a specific point in time, and the agent will use this information to decide its next action."
      ],
      "metadata": {
        "id": "uqcZMjTXKAt9"
      }
    },
    {
      "cell_type": "markdown",
      "source": [
        "### **Rewards**\n",
        "Since the goal is to keep the pole upright for as long as possible, a reward of `+1` for every step taken, including the termination step, is allotted. The threshold for rewards is 500 for v1 and 200 for v0."
      ],
      "metadata": {
        "id": "5j7yhbMiMbY7"
      }
    },
    {
      "cell_type": "markdown",
      "source": [
        "### **Episode End**\n",
        "The episode ends if any one of the following occurs:\n",
        "\n",
        "* Termination: Pole Angle is greater than ±12°\n",
        "\n",
        "* Termination: Cart Position is greater than ±2.4 (center of the cart reaches the edge of the display)\n",
        "\n",
        "* Truncation: Episode length is greater than 500 (200 for v0)"
      ],
      "metadata": {
        "id": "j7qU39m9NiZh"
      }
    },
    {
      "cell_type": "markdown",
      "source": [
        "## Creating a Custom Gymnasium Environment"
      ],
      "metadata": {
        "id": "mR3-iqcAH6rf"
      }
    },
    {
      "cell_type": "code",
      "source": [
        "!pip install jdc"
      ],
      "metadata": {
        "colab": {
          "base_uri": "https://localhost:8080/"
        },
        "id": "k5PIubwYKoeO",
        "outputId": "f7c4eca6-d5bb-4a77-d8ad-0c9d3d062866"
      },
      "execution_count": null,
      "outputs": [
        {
          "output_type": "stream",
          "name": "stdout",
          "text": [
            "Collecting jdc\n",
            "  Downloading jdc-0.0.9-py2.py3-none-any.whl.metadata (817 bytes)\n",
            "Downloading jdc-0.0.9-py2.py3-none-any.whl (2.1 kB)\n",
            "Installing collected packages: jdc\n",
            "Successfully installed jdc-0.0.9\n"
          ]
        }
      ]
    },
    {
      "cell_type": "code",
      "source": [
        "import numpy as np\n",
        "import pygame\n",
        "\n",
        "import gymnasium as gym\n",
        "from gymnasium import spaces\n",
        "import jdc"
      ],
      "metadata": {
        "id": "8dCNzM6_7LIy"
      },
      "execution_count": null,
      "outputs": []
    },
    {
      "cell_type": "markdown",
      "source": [
        "### Declaration and Initialization\n",
        "\n",
        "Our custom environment will be based on the abstract class `gymnasium.Env`. Don't forget to add the `metadata` attribute to your class. In this, you'll specify the render modes your environment supports (like \"human\", \"rgb_array\", or \"ansi\") and the framerate for rendering. Every environment must support `None` as a render mode, but you don’t need to add it to `metadata`. For example, in our `GridWorldEnv`, we’ll support “rgb_array” and “human” modes and render at 4 frames per second (FPS).\n",
        "\n",
        "The `__init__` method of the environment will take an integer `size`, which determines the grid's size. Inside `__init__`, we’ll set up variables for rendering and define the environment’s `observation_space` and `action_space`. In our case, the observation will give the location of both the agent and the target on a 2D grid. We’ll represent observations as dictionaries with keys \"agent\" and \"target\". For example, an observation could look like `{\"agent\": array([1, 0]), \"target\": array([0, 3])}`. Since there are 4 possible actions (“right”, “up”, “left”, “down”), we’ll use `Discrete(4)` for the action space. Here’s how the `GridWorldEnv` class and the `__init__` method are implemented:\""
      ],
      "metadata": {
        "id": "EwQtAxDWAOTp"
      }
    },
    {
      "cell_type": "code",
      "source": [
        "class GridWorldEnv(gym.Env):\n",
        "    metadata = {\"render_modes\": [\"human\", \"rgb_array\"], \"render_fps\": 4}\n",
        "    # super().reset()\n",
        "\n",
        "    def __init__(self, render_mode=None, size=5, perc_num_obstacle = 30 ):\n",
        "\n",
        "        self.size = size  # The size of the square grid\n",
        "        self.window_size = 512  # The size of the PyGame window\n",
        "        self.perc_num_obstacle = perc_num_obstacle\n",
        "        self._num_obstacles = int((self.perc_num_obstacle/100)*(self.size*self.size))\n",
        "\n",
        "        # Observations are dictionaries with the agent's and the target's location.\n",
        "        # Each location is encoded as an element of {0, ..., `size`}^2, i.e. MultiDiscrete([size, size]).\n",
        "\n",
        "        self.observation_space = self._make_observation_space() # implement self._make_observation_space()\n",
        "\n",
        "        # We have 4 actions, corresponding to \"right\", \"up\", \"left\", \"down\"\n",
        "        self.action_space = self._make_action_space() # implement self._make_action_space()\n",
        "\n",
        "        self._action_to_direction = self._action_to_direction() # implement self._action_to_direction()\n",
        "\n",
        "        assert render_mode is None or render_mode in self.metadata[\"render_modes\"]\n",
        "        self.render_mode = render_mode\n",
        "\n",
        "        \"\"\"\n",
        "        If human-rendering is used, `self.window` will be a reference\n",
        "        to the window that we draw to. `self.clock` will be a clock that is used\n",
        "        to ensure that the environment is rendered at the correct framerate in\n",
        "        human-mode. They will remain `None` until human-mode is used for the\n",
        "        first time.\n",
        "        \"\"\"\n",
        "        self.window = None\n",
        "        self.clock = None"
      ],
      "metadata": {
        "id": "qduSI6AxJNWq"
      },
      "execution_count": null,
      "outputs": []
    },
    {
      "cell_type": "code",
      "source": [
        "%%add_to GridWorldEnv\n",
        "def _make_observation_space(self):\n",
        "        observation_space = spaces.Dict(\n",
        "                {\n",
        "                    \"agent\": spaces.Box(0, self.size - 1, shape=(2,), dtype=int),\n",
        "                    \"target\": spaces.Box(0, self.size - 1, shape=(2,), dtype=int),\n",
        "                }\n",
        "            )\n",
        "        return observation_space\n"
      ],
      "metadata": {
        "id": "lJZnRz5kJ9uT"
      },
      "execution_count": null,
      "outputs": []
    },
    {
      "cell_type": "code",
      "source": [
        "%%add_to GridWorldEnv\n",
        "def _make_action_space(self):\n",
        "    action_space = spaces.Discrete(4)\n",
        "    return action_space"
      ],
      "metadata": {
        "id": "lxykE_AHKhMS"
      },
      "execution_count": null,
      "outputs": []
    },
    {
      "cell_type": "code",
      "source": [
        "%%add_to GridWorldEnv\n",
        "def _action_to_direction(self):\n",
        "    \"\"\"\n",
        "        The following dictionary maps abstract actions from `self.action_space` to\n",
        "        the direction we will walk in if that action is taken.\n",
        "        I.e. 0 corresponds to \"right\", 1 to \"up\" etc.\n",
        "    \"\"\"\n",
        "    action_to_direction = {\n",
        "            0: np.array([1, 0]),\n",
        "            1: np.array([0, 1]),\n",
        "            2: np.array([-1, 0]),\n",
        "            3: np.array([0, -1]),}\n",
        "\n",
        "    return action_to_direction"
      ],
      "metadata": {
        "id": "IU60Rf1LKhBk"
      },
      "execution_count": null,
      "outputs": []
    },
    {
      "cell_type": "markdown",
      "source": [
        "### Constructing Observations From Environment States\n",
        "\n",
        "Since we will need to compute observations both in `reset` and `step`, it is often convenient to have a (private) method `_get_obs` that translates the environment’s state into an observation."
      ],
      "metadata": {
        "id": "U5q33300LBso"
      }
    },
    {
      "cell_type": "code",
      "source": [
        "%%add_to GridWorldEnv\n",
        "def _get_obs(self):\n",
        "    return {\"agent\": self._agent_location, \"target\": self._target_location}"
      ],
      "metadata": {
        "id": "YEeUuNRYLYd_"
      },
      "execution_count": null,
      "outputs": []
    },
    {
      "cell_type": "markdown",
      "source": [
        "We can also implement a similar method for the auxiliary information that is returned by `step` and `reset`. In our case, we would like to provide the manhattan distance between the agent and the target:"
      ],
      "metadata": {
        "id": "ON8M5xZXLmud"
      }
    },
    {
      "cell_type": "code",
      "source": [
        "%%add_to GridWorldEnv\n",
        "def _get_info(self):\n",
        "    return {\n",
        "        \"distance\": np.linalg.norm(\n",
        "            self._agent_location - self._target_location, ord=1\n",
        "        )\n",
        "    }"
      ],
      "metadata": {
        "id": "D8dS8JLlLtUh"
      },
      "execution_count": null,
      "outputs": []
    },
    {
      "cell_type": "markdown",
      "source": [
        "Oftentimes, info will also contain some data that is only available inside the step method (e.g. individual reward terms). In that case, we would have to update the dictionary that is returned by `_get_info` in `step`.\n",
        "\n"
      ],
      "metadata": {
        "id": "3P-e0EemMFzS"
      }
    },
    {
      "cell_type": "markdown",
      "source": [
        "### Reset\n",
        "\n",
        "The `reset` method is used to start a new episode. You can assume that the `step` method won't be called before `reset` has been called. Additionally, `reset` should be called whenever a `done` signal is issued to restart the environment. The `reset` method may accept a `seed` parameter, which allows users to set the random number generator to a predictable (deterministic) state. It’s recommended to use the random number generator `self.np_random` provided by the environment’s base class, `gymnasium.Env`.\n",
        "\n",
        "If you only use this random generator, seeding is straightforward. However, you must remember to call `super().reset(seed=seed)` to ensure the base class correctly seeds the RNG. After that, we can randomly set the environment's state. In our case, this involves randomly selecting both the agent's starting position and the target's location, ensuring that the target doesn’t overlap with the agent’s position.\n",
        "\n",
        "The `reset` method should return a tuple containing the initial observation and any auxiliary information. To create these, we can use the `_get_obs` and `_get_info` methods we implemented earlier."
      ],
      "metadata": {
        "id": "R8Xr2jnvMMxz"
      }
    },
    {
      "cell_type": "code",
      "source": [
        "%%add_to GridWorldEnv\n",
        "def reset(self, seed=None, options=None,start_location=\"random\",target_location=\"random\"):\n",
        "    # We need the following line to seed self.np_random\n",
        "    # super().reset(seed=seed)\n",
        "\n",
        "    # Choose the agent's location uniformly at random\n",
        "    self._start_location = self._initialize_start_location(loc=start_location) # implement _initialize_start_obstacle()\n",
        "\n",
        "    # We will sample the target's location randomly until it does not coincide with the agent's location\n",
        "    self._target_location = self._initialize_target_location(loc=target_location) # implement _initialize_target_obstacle()\n",
        "    while np.array_equal(self._start_location, self._target_location):\n",
        "        self._target_location = self._initialize_target_location(loc=target_location)\n",
        "\n",
        "    self._agent_location = self._start_location\n",
        "\n",
        "    self._obstacle_location = self._initialize_obstacle() # implement _initialize_obstacle()\n",
        "\n",
        "    observation = self._get_obs()\n",
        "    info = self._get_info()\n",
        "\n",
        "    if self.render_mode == \"human\":\n",
        "        self._render_frame()\n",
        "\n",
        "    return observation, info"
      ],
      "metadata": {
        "id": "JUzUyQ0sMm9w"
      },
      "execution_count": null,
      "outputs": []
    },
    {
      "cell_type": "code",
      "source": [
        "%%add_to GridWorldEnv\n",
        "def _initialize_start_location(self,loc=\"random\"):\n",
        "    if loc=='random':\n",
        "        start_location = self.np_random.integers(0, self.size, size=2, dtype=int)\n",
        "    else:\n",
        "        start_location = np.array(loc)\n",
        "\n",
        "    return start_location"
      ],
      "metadata": {
        "id": "d70NlV6wNOsf"
      },
      "execution_count": null,
      "outputs": []
    },
    {
      "cell_type": "code",
      "source": [
        "%%add_to GridWorldEnv\n",
        "def _initialize_target_location(self,loc=\"random\"):\n",
        "    if loc=='random':\n",
        "        target_location = self.np_random.integers(0, self.size, size=2, dtype=int)\n",
        "    else:\n",
        "        target_location = np.array(loc)\n",
        "\n",
        "    return target_location"
      ],
      "metadata": {
        "id": "WUL_yd9kNQ_Y"
      },
      "execution_count": null,
      "outputs": []
    },
    {
      "cell_type": "code",
      "source": [
        "%%add_to GridWorldEnv\n",
        "def _initialize_obstacle(self):\n",
        "        obstacle_location = []\n",
        "        for i in range(self._num_obstacles):\n",
        "            temp = self.np_random.integers(0, self.size, size=2, dtype=int)\n",
        "            cond1 = np.array_equal(temp, self._start_location)\n",
        "            cond2 = np.array_equal(temp, self._target_location)\n",
        "            # cond3 = any(np.array_equal(temp, arr) for arr in self._obstacle_location)\n",
        "            while  cond1 or cond2:\n",
        "                temp = self.np_random.integers(\n",
        "                0, self.size, size=2, dtype=int\n",
        "            )\n",
        "            obstacle_location.append(temp)\n",
        "        return obstacle_location"
      ],
      "metadata": {
        "id": "xMVbtLpcNRh2"
      },
      "execution_count": null,
      "outputs": []
    },
    {
      "cell_type": "markdown",
      "source": [
        "### Step\n",
        "\n",
        "The `step` method contains most of the logic for your environment. It takes an action, calculates the new state of the environment based on that action, and returns a 5-tuple: `(observation, reward, terminated, truncated, info)`. You can check out `gymnasium.Env.step()` for more details.\n",
        "\n",
        "After computing the new state, we check if it’s a terminal state, and if so, we set `done` accordingly. In our `GridWorldEnv`, since we are using sparse binary rewards, calculating the reward is straightforward once we know if the episode is done. To get the observation and info, we can use the `_get_obs` and `_get_info` methods, just like before."
      ],
      "metadata": {
        "id": "4EPLdEiZNwGo"
      }
    },
    {
      "cell_type": "code",
      "source": [
        "%%add_to GridWorldEnv\n",
        "def _reward_system(self,agent_location):\n",
        "    agent_win = np.array_equal(self._agent_location, self._target_location)\n",
        "    obstacle_hit = any(np.array_equal(self._agent_location, arr) for arr in self._obstacle_location)\n",
        "\n",
        "    # reward logic\n",
        "    if obstacle_hit:\n",
        "        reward = -1\n",
        "    elif agent_win:\n",
        "        reward = 1\n",
        "    else:\n",
        "        reward = 0\n",
        "\n",
        "    return reward"
      ],
      "metadata": {
        "id": "LnWUCUfLLB2d"
      },
      "execution_count": null,
      "outputs": []
    },
    {
      "cell_type": "code",
      "source": [
        "%%add_to GridWorldEnv\n",
        "def step(self, action):\n",
        "    # Map the action (element of {0,1,2,3}) to the direction we walk in\n",
        "    direction = self._action_to_direction[action]\n",
        "    # We use `np.clip` to make sure we don't leave the grid\n",
        "    self._agent_location = np.clip(\n",
        "        self._agent_location + direction, 0, self.size - 1\n",
        "    )\n",
        "\n",
        "    # An episode is done iff the agent has reached the target\n",
        "    terminated = np.array_equal(self._agent_location, self._target_location)\n",
        "\n",
        "    reward = self._reward_system(self._agent_location) # implement _reward_system()\n",
        "\n",
        "    observation = self._get_obs()\n",
        "\n",
        "    info = self._get_info()\n",
        "\n",
        "    if self.render_mode == \"human\":\n",
        "        self._render_frame()\n",
        "\n",
        "    return observation, reward, terminated, False, info"
      ],
      "metadata": {
        "id": "UoCPO3LuLRR3"
      },
      "execution_count": null,
      "outputs": []
    },
    {
      "cell_type": "markdown",
      "source": [
        "### Render\n",
        "\n",
        "Here, we are using PyGame for rendering. A similar approach to rendering is used in many environments that are included with Gymnasium and you can use it as a skeleton for your own environments:"
      ],
      "metadata": {
        "id": "d6CDrnsDLsRj"
      }
    },
    {
      "cell_type": "code",
      "source": [
        "%%add_to GridWorldEnv\n",
        "def render(self):\n",
        "    if self.render_mode == \"rgb_array\":\n",
        "            return self._render_frame()\n",
        "\n",
        "def _render_frame(self):\n",
        "    if self.window is None and self.render_mode == \"human\":\n",
        "        pygame.init()\n",
        "        pygame.display.init()\n",
        "        self.window = pygame.display.set_mode(\n",
        "            (self.window_size, self.window_size)\n",
        "        )\n",
        "    if self.clock is None and self.render_mode == \"human\":\n",
        "        self.clock = pygame.time.Clock()\n",
        "\n",
        "    canvas = pygame.Surface((self.window_size, self.window_size))\n",
        "    canvas.fill((255, 255, 255))\n",
        "    pix_square_size = (\n",
        "        self.window_size / self.size\n",
        "    )  # The size of a single grid square in pixels\n",
        "\n",
        "    # First we draw the target\n",
        "    pygame.draw.rect(\n",
        "        canvas,\n",
        "        (0, 255, 0),\n",
        "        pygame.Rect(\n",
        "            pix_square_size * self._target_location,\n",
        "            (pix_square_size, pix_square_size),\n",
        "        ),\n",
        "    )\n",
        "\n",
        "    # First we draw the start\n",
        "    pygame.draw.rect(\n",
        "        canvas,\n",
        "        (255, 0, 0),\n",
        "        pygame.Rect(\n",
        "            pix_square_size * self._start_location,\n",
        "            (pix_square_size, pix_square_size),\n",
        "        ),\n",
        "    )\n",
        "\n",
        "        # First we draw the obstacles\n",
        "    for i in range(self._num_obstacles):\n",
        "        pygame.draw.rect(\n",
        "            canvas,\n",
        "            (0, 0, 0),\n",
        "            pygame.Rect( # Rect(left, top, width, height) -> Rect\n",
        "                pix_square_size * self._obstacle_location[i], #loc\n",
        "                (pix_square_size, pix_square_size), # size\n",
        "            ),\n",
        "        )\n",
        "\n",
        "    # Now we draw the agent\n",
        "    pygame.draw.circle(\n",
        "        canvas,\n",
        "        (0, 0, 255),\n",
        "        (self._agent_location + 0.5) * pix_square_size,\n",
        "        pix_square_size / 3,\n",
        "    )\n",
        "\n",
        "    # Finally, add some gridlines\n",
        "    for x in range(self.size + 1):\n",
        "        pygame.draw.line(\n",
        "            canvas,\n",
        "            0,\n",
        "            (0, pix_square_size * x),\n",
        "            (self.window_size, pix_square_size * x),\n",
        "            width=3,\n",
        "        )\n",
        "        pygame.draw.line(\n",
        "            canvas,\n",
        "            0,\n",
        "            (pix_square_size * x, 0),\n",
        "            (pix_square_size * x, self.window_size),\n",
        "            width=3,\n",
        "        )\n",
        "\n",
        "    if self.render_mode == \"human\":\n",
        "        # The following line copies our drawings from `canvas` to the visible window\n",
        "        self.window.blit(canvas, canvas.get_rect())\n",
        "        pygame.event.pump()\n",
        "        pygame.display.update()\n",
        "\n",
        "        # We need to ensure that human-rendering occurs at the predefined framerate.\n",
        "        # The following line will automatically add a delay to keep the framerate stable.\n",
        "        self.clock.tick(self.metadata[\"render_fps\"])\n",
        "    else:  # rgb_array\n",
        "        return np.transpose(\n",
        "            np.array(pygame.surfarray.pixels3d(canvas)), axes=(1, 0, 2)\n",
        "        )"
      ],
      "metadata": {
        "id": "EtWx8JM8Lu96"
      },
      "execution_count": null,
      "outputs": []
    },
    {
      "cell_type": "code",
      "source": [
        "%%add_to GridWorldEnv\n",
        "def render(self):\n",
        "    if self.render_mode == \"rgb_array\":\n",
        "            return self._render_frame()"
      ],
      "metadata": {
        "id": "3iVKei6YMRU3"
      },
      "execution_count": null,
      "outputs": []
    },
    {
      "cell_type": "markdown",
      "source": [
        "### Close\n",
        "\n",
        "The `close` method should close any open resources that were used by the environment. In many cases, you don’t actually have to bother to implement this method. However, in our example `render_mode` may be `\"human\"` and we might need to close the window that has been opened:"
      ],
      "metadata": {
        "id": "djkwnPKQObjT"
      }
    },
    {
      "cell_type": "code",
      "source": [
        "%%add_to GridWorldEnv\n",
        "def close(self):\n",
        "    if self.window is not None:\n",
        "        pygame.display.quit()\n",
        "        pygame.quit()"
      ],
      "metadata": {
        "id": "Mh-bRd2DOiss"
      },
      "execution_count": null,
      "outputs": []
    },
    {
      "cell_type": "markdown",
      "source": [
        "In other environments `close` might also close files that were opened or release other resources. You shouldn’t interact with the environment after having called `close`."
      ],
      "metadata": {
        "id": "6C-X2ILGOlbY"
      }
    },
    {
      "cell_type": "markdown",
      "source": [
        "### Executing Custom Environment\n",
        "\n"
      ],
      "metadata": {
        "id": "aiGctZ4fO_IS"
      }
    },
    {
      "cell_type": "code",
      "source": [
        "import gymnasium as gym\n",
        "\n",
        "# Create an environment (e.g., CartPole)\n",
        "env = wrap_env(GridWorldEnv(render_mode=\"rgb_array\", size=10, perc_num_obstacle=30))\n",
        "\n",
        "# Reset the environment\n",
        "state,_ = env.reset()\n",
        "\n",
        "# Start the recorder (utility for displaying output)\n",
        "env.start_video_recorder()\n",
        "\n",
        "# Example of an interaction loop\n",
        "for _ in range(100):\n",
        "    # Render the environment\n",
        "    # env.render()\n",
        "\n",
        "    # Sample random action from action space\n",
        "    action = env.action_space.sample()\n",
        "\n",
        "    # Step through the environment using the action\n",
        "    next_state, reward, done,_, info = env.step(action)\n",
        "\n",
        "    # Break the loop if the episode is done\n",
        "    if done:\n",
        "        break\n",
        "\n",
        "\n",
        "# close the video recorder(utility for displaying output)\n",
        "env.close_video_recorder()\n",
        "\n",
        "# Close the environment\n",
        "env.close()"
      ],
      "metadata": {
        "colab": {
          "base_uri": "https://localhost:8080/"
        },
        "id": "STOdwr42PE21",
        "outputId": "6fdbaf75-39b6-406c-caa0-a405c7474d5b"
      },
      "execution_count": null,
      "outputs": [
        {
          "output_type": "stream",
          "name": "stderr",
          "text": [
            "/usr/local/lib/python3.11/dist-packages/gym/wrappers/record_video.py:75: UserWarning: \u001b[33mWARN: Overwriting existing videos at /content/video folder (try specifying a different `video_folder` for the `RecordVideo` wrapper if this is not desired)\u001b[0m\n",
            "  logger.warn(\n"
          ]
        },
        {
          "output_type": "stream",
          "name": "stdout",
          "text": [
            "Moviepy - Building video /content/video/rl-video-episode-0.mp4.\n",
            "Moviepy - Writing video /content/video/rl-video-episode-0.mp4\n",
            "\n"
          ]
        },
        {
          "output_type": "stream",
          "name": "stderr",
          "text": []
        },
        {
          "output_type": "stream",
          "name": "stdout",
          "text": [
            "Moviepy - Done !\n",
            "Moviepy - video ready /content/video/rl-video-episode-0.mp4\n",
            "Moviepy - Building video /content/video/rl-video-episode-0.mp4.\n",
            "Moviepy - Writing video /content/video/rl-video-episode-0.mp4\n",
            "\n"
          ]
        },
        {
          "output_type": "stream",
          "name": "stderr",
          "text": []
        },
        {
          "output_type": "stream",
          "name": "stdout",
          "text": [
            "Moviepy - Done !\n",
            "Moviepy - video ready /content/video/rl-video-episode-0.mp4\n",
            "Moviepy - Building video /content/video/rl-video-episode-0.mp4.\n",
            "Moviepy - Writing video /content/video/rl-video-episode-0.mp4\n",
            "\n"
          ]
        },
        {
          "output_type": "stream",
          "name": "stderr",
          "text": []
        },
        {
          "output_type": "stream",
          "name": "stdout",
          "text": [
            "Moviepy - Done !\n",
            "Moviepy - video ready /content/video/rl-video-episode-0.mp4\n"
          ]
        }
      ]
    },
    {
      "cell_type": "code",
      "source": [
        "# Display Output\n",
        "show_video()"
      ],
      "metadata": {
        "colab": {
          "base_uri": "https://localhost:8080/",
          "height": 421
        },
        "id": "80lh1lV2PH2X",
        "outputId": "c90a4e7c-eb3d-48ff-d93f-caf1812ba539"
      },
      "execution_count": null,
      "outputs": [
        {
          "output_type": "display_data",
          "data": {
            "text/plain": [
              "<IPython.core.display.HTML object>"
            ],
            "text/html": [
              "<video alt=\"test\" autoplay\n",
              "                loop controls style=\"height: 400px;\">\n",
              "                <source src=\"data:video/mp4;base64,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\" type=\"video/mp4\" />\n",
              "             </video>"
            ]
          },
          "metadata": {}
        }
      ]
    },
    {
      "cell_type": "markdown",
      "source": [
        "## References\n",
        "\n",
        "\n",
        "\n",
        "1.   https://github.com/Farama-Foundation/Gymnasium\n",
        "\n",
        "\n",
        "\n"
      ],
      "metadata": {
        "id": "lGBjMRvLPbXu"
      }
    },
    {
      "cell_type": "code",
      "source": [],
      "metadata": {
        "id": "fJh6YEyCun74"
      },
      "execution_count": null,
      "outputs": []
    }
  ]
}